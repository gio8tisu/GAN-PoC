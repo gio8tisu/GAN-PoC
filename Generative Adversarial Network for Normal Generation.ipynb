{
 "cells": [
  {
   "cell_type": "code",
   "execution_count": 1,
   "metadata": {},
   "outputs": [],
   "source": [
    "import numpy as np\n",
    "import torch.nn\n",
    "import torch.utils.data\n",
    "import torch.optim\n",
    "import tqdm\n",
    "\n",
    "np.random.seed(0)\n",
    "torch.manual_seed(0);"
   ]
  },
  {
   "cell_type": "code",
   "execution_count": 2,
   "metadata": {},
   "outputs": [],
   "source": [
    "device = 'cuda' if torch.cuda.is_available() else 'cpu'"
   ]
  },
  {
   "cell_type": "code",
   "execution_count": 3,
   "metadata": {},
   "outputs": [],
   "source": [
    "import datasets"
   ]
  },
  {
   "cell_type": "code",
   "execution_count": 4,
   "metadata": {},
   "outputs": [],
   "source": [
    "NUM_SAMPLES = 10000\n",
    "IN_SHAPE = 5\n",
    "OUT_SHAPE = 1\n",
    "\n",
    "EPOCHS = 100\n",
    "BATCH_SIZE = 100\n",
    "LEARNING_RATE = 5E-4"
   ]
  },
  {
   "cell_type": "code",
   "execution_count": 5,
   "metadata": {},
   "outputs": [],
   "source": [
    "uniform_dataset = datasets.UniformRVDataset(num_samples=NUM_SAMPLES,\n",
    "                                            shape=IN_SHAPE)\n",
    "uniform_dataloader = torch.utils.data.DataLoader(uniform_dataset,\n",
    "                                                 batch_size=BATCH_SIZE)\n",
    "\n",
    "normal_dataset = datasets.NormalRVDataset(num_samples=NUM_SAMPLES,\n",
    "                                          shape=OUT_SHAPE,\n",
    "                                          static_sample=False)\n",
    "normal_dataloader = torch.utils.data.DataLoader(normal_dataset,\n",
    "                                                batch_size=BATCH_SIZE)"
   ]
  },
  {
   "cell_type": "code",
   "execution_count": 6,
   "metadata": {},
   "outputs": [],
   "source": [
    "# Define generator model (simple fully-connected with leaky ReLUs).\n",
    "generator = torch.nn.Sequential(\n",
    "    torch.nn.Linear(IN_SHAPE, 5),\n",
    "    torch.nn.LeakyReLU(),\n",
    "    torch.nn.Linear(5, 5),\n",
    "    torch.nn.LeakyReLU(),\n",
    "    torch.nn.Linear(5, 5),\n",
    "    torch.nn.LeakyReLU(),\n",
    "    torch.nn.Linear(5, OUT_SHAPE),\n",
    ").to(device)\n",
    "\n",
    "# Define discriminator model (simple fully-connected with leaky ReLUs).\n",
    "discriminator = torch.nn.Sequential(\n",
    "    torch.nn.Linear(OUT_SHAPE, 5),\n",
    "    torch.nn.LeakyReLU(),\n",
    "    torch.nn.Linear(5, 5),\n",
    "    torch.nn.LeakyReLU(),\n",
    "    torch.nn.Linear(5, 5),\n",
    "    torch.nn.LeakyReLU(),\n",
    "    torch.nn.Linear(5, 1),\n",
    "    torch.nn.Sigmoid()\n",
    ").to(device)"
   ]
  },
  {
   "cell_type": "code",
   "execution_count": 7,
   "metadata": {},
   "outputs": [],
   "source": [
    "# Define loss criterion (binary cross-entropy).\n",
    "criterion = torch.nn.BCELoss()\n",
    "# Define optimizer for generator and discriminator (Adam).\n",
    "optimizerG = torch.optim.Adam(generator.parameters(), lr=LEARNING_RATE)\n",
    "optimizerD = torch.optim.Adam(discriminator.parameters(), lr=2 * LEARNING_RATE)"
   ]
  },
  {
   "cell_type": "code",
   "execution_count": 8,
   "metadata": {},
   "outputs": [
    {
     "name": "stdout",
     "output_type": "stream",
     "text": [
      "Epoch: 0\n"
     ]
    },
    {
     "data": {
      "application/vnd.jupyter.widget-view+json": {
       "model_id": "15b336b445aa47af92b58a8f4a521250",
       "version_major": 2,
       "version_minor": 0
      },
      "text/plain": [
       "HBox(children=(IntProgress(value=0), HTML(value='')))"
      ]
     },
     "metadata": {},
     "output_type": "display_data"
    },
    {
     "name": "stdout",
     "output_type": "stream",
     "text": [
      "\n",
      "Epoch: 1\n"
     ]
    },
    {
     "data": {
      "application/vnd.jupyter.widget-view+json": {
       "model_id": "07abaa623da4403b8dd2bec6d9e0e914",
       "version_major": 2,
       "version_minor": 0
      },
      "text/plain": [
       "HBox(children=(IntProgress(value=0), HTML(value='')))"
      ]
     },
     "metadata": {},
     "output_type": "display_data"
    },
    {
     "name": "stdout",
     "output_type": "stream",
     "text": [
      "\n",
      "Epoch: 2\n"
     ]
    },
    {
     "data": {
      "application/vnd.jupyter.widget-view+json": {
       "model_id": "2cd6e3fe452c470488a00d49ea724b04",
       "version_major": 2,
       "version_minor": 0
      },
      "text/plain": [
       "HBox(children=(IntProgress(value=0), HTML(value='')))"
      ]
     },
     "metadata": {},
     "output_type": "display_data"
    },
    {
     "name": "stdout",
     "output_type": "stream",
     "text": [
      "\n",
      "Epoch: 3\n"
     ]
    },
    {
     "data": {
      "application/vnd.jupyter.widget-view+json": {
       "model_id": "e274353b8cb64304befe8ee1309e531f",
       "version_major": 2,
       "version_minor": 0
      },
      "text/plain": [
       "HBox(children=(IntProgress(value=0), HTML(value='')))"
      ]
     },
     "metadata": {},
     "output_type": "display_data"
    },
    {
     "name": "stdout",
     "output_type": "stream",
     "text": [
      "\n",
      "Epoch: 4\n"
     ]
    },
    {
     "data": {
      "application/vnd.jupyter.widget-view+json": {
       "model_id": "6b188e3c2ffd4c7599e9f30e27cead35",
       "version_major": 2,
       "version_minor": 0
      },
      "text/plain": [
       "HBox(children=(IntProgress(value=0), HTML(value='')))"
      ]
     },
     "metadata": {},
     "output_type": "display_data"
    },
    {
     "name": "stdout",
     "output_type": "stream",
     "text": [
      "\n",
      "Epoch: 5\n"
     ]
    },
    {
     "data": {
      "application/vnd.jupyter.widget-view+json": {
       "model_id": "0f5cea6cade04b06abff00eeb7f078a2",
       "version_major": 2,
       "version_minor": 0
      },
      "text/plain": [
       "HBox(children=(IntProgress(value=0), HTML(value='')))"
      ]
     },
     "metadata": {},
     "output_type": "display_data"
    },
    {
     "name": "stdout",
     "output_type": "stream",
     "text": [
      "\n",
      "Epoch: 6\n"
     ]
    },
    {
     "data": {
      "application/vnd.jupyter.widget-view+json": {
       "model_id": "b8bc7ac3ce29452cb6a5d3c490bda978",
       "version_major": 2,
       "version_minor": 0
      },
      "text/plain": [
       "HBox(children=(IntProgress(value=0), HTML(value='')))"
      ]
     },
     "metadata": {},
     "output_type": "display_data"
    },
    {
     "name": "stdout",
     "output_type": "stream",
     "text": [
      "\n",
      "Epoch: 7\n"
     ]
    },
    {
     "data": {
      "application/vnd.jupyter.widget-view+json": {
       "model_id": "6d0e2547f6274b66ab1c6479bad90013",
       "version_major": 2,
       "version_minor": 0
      },
      "text/plain": [
       "HBox(children=(IntProgress(value=0), HTML(value='')))"
      ]
     },
     "metadata": {},
     "output_type": "display_data"
    },
    {
     "name": "stdout",
     "output_type": "stream",
     "text": [
      "\n",
      "Epoch: 8\n"
     ]
    },
    {
     "data": {
      "application/vnd.jupyter.widget-view+json": {
       "model_id": "8bf9240ee6d74eecbaf31c51535ed32c",
       "version_major": 2,
       "version_minor": 0
      },
      "text/plain": [
       "HBox(children=(IntProgress(value=0), HTML(value='')))"
      ]
     },
     "metadata": {},
     "output_type": "display_data"
    },
    {
     "name": "stdout",
     "output_type": "stream",
     "text": [
      "\n",
      "Epoch: 9\n"
     ]
    },
    {
     "data": {
      "application/vnd.jupyter.widget-view+json": {
       "model_id": "3eb83b66538e4dc68e6c56967ec3955b",
       "version_major": 2,
       "version_minor": 0
      },
      "text/plain": [
       "HBox(children=(IntProgress(value=0), HTML(value='')))"
      ]
     },
     "metadata": {},
     "output_type": "display_data"
    },
    {
     "name": "stdout",
     "output_type": "stream",
     "text": [
      "\n",
      "Epoch: 10\n"
     ]
    },
    {
     "data": {
      "application/vnd.jupyter.widget-view+json": {
       "model_id": "0920eb4b0a1448b3bc020b53174368ff",
       "version_major": 2,
       "version_minor": 0
      },
      "text/plain": [
       "HBox(children=(IntProgress(value=0), HTML(value='')))"
      ]
     },
     "metadata": {},
     "output_type": "display_data"
    },
    {
     "name": "stdout",
     "output_type": "stream",
     "text": [
      "\n",
      "Epoch: 11\n"
     ]
    },
    {
     "data": {
      "application/vnd.jupyter.widget-view+json": {
       "model_id": "9fd1766a19014d999969d016ccb12eef",
       "version_major": 2,
       "version_minor": 0
      },
      "text/plain": [
       "HBox(children=(IntProgress(value=0), HTML(value='')))"
      ]
     },
     "metadata": {},
     "output_type": "display_data"
    },
    {
     "name": "stdout",
     "output_type": "stream",
     "text": [
      "\n",
      "Epoch: 12\n"
     ]
    },
    {
     "data": {
      "application/vnd.jupyter.widget-view+json": {
       "model_id": "95f52ae081e3410f856369696e1902b4",
       "version_major": 2,
       "version_minor": 0
      },
      "text/plain": [
       "HBox(children=(IntProgress(value=0), HTML(value='')))"
      ]
     },
     "metadata": {},
     "output_type": "display_data"
    },
    {
     "name": "stdout",
     "output_type": "stream",
     "text": [
      "\n",
      "Epoch: 13\n"
     ]
    },
    {
     "data": {
      "application/vnd.jupyter.widget-view+json": {
       "model_id": "b3213a53b6254136a020fc2c46316a50",
       "version_major": 2,
       "version_minor": 0
      },
      "text/plain": [
       "HBox(children=(IntProgress(value=0), HTML(value='')))"
      ]
     },
     "metadata": {},
     "output_type": "display_data"
    },
    {
     "name": "stdout",
     "output_type": "stream",
     "text": [
      "\n",
      "Epoch: 14\n"
     ]
    },
    {
     "data": {
      "application/vnd.jupyter.widget-view+json": {
       "model_id": "204389a4f196407184cc0d85bc8215e0",
       "version_major": 2,
       "version_minor": 0
      },
      "text/plain": [
       "HBox(children=(IntProgress(value=0), HTML(value='')))"
      ]
     },
     "metadata": {},
     "output_type": "display_data"
    },
    {
     "name": "stdout",
     "output_type": "stream",
     "text": [
      "\n",
      "Epoch: 15\n"
     ]
    },
    {
     "data": {
      "application/vnd.jupyter.widget-view+json": {
       "model_id": "875f5d4e923a454cb528fbddd36f5078",
       "version_major": 2,
       "version_minor": 0
      },
      "text/plain": [
       "HBox(children=(IntProgress(value=0), HTML(value='')))"
      ]
     },
     "metadata": {},
     "output_type": "display_data"
    },
    {
     "name": "stdout",
     "output_type": "stream",
     "text": [
      "\n",
      "Epoch: 16\n"
     ]
    },
    {
     "data": {
      "application/vnd.jupyter.widget-view+json": {
       "model_id": "1176d97e74db41b594e5a371d2d978dc",
       "version_major": 2,
       "version_minor": 0
      },
      "text/plain": [
       "HBox(children=(IntProgress(value=0), HTML(value='')))"
      ]
     },
     "metadata": {},
     "output_type": "display_data"
    },
    {
     "name": "stdout",
     "output_type": "stream",
     "text": [
      "\n",
      "Epoch: 17\n"
     ]
    },
    {
     "data": {
      "application/vnd.jupyter.widget-view+json": {
       "model_id": "13b519b02e984669a31dc0a99af2171e",
       "version_major": 2,
       "version_minor": 0
      },
      "text/plain": [
       "HBox(children=(IntProgress(value=0), HTML(value='')))"
      ]
     },
     "metadata": {},
     "output_type": "display_data"
    },
    {
     "name": "stdout",
     "output_type": "stream",
     "text": [
      "\n",
      "Epoch: 18\n"
     ]
    },
    {
     "data": {
      "application/vnd.jupyter.widget-view+json": {
       "model_id": "8c5146fce507471f8d00b76679b421da",
       "version_major": 2,
       "version_minor": 0
      },
      "text/plain": [
       "HBox(children=(IntProgress(value=0), HTML(value='')))"
      ]
     },
     "metadata": {},
     "output_type": "display_data"
    },
    {
     "name": "stdout",
     "output_type": "stream",
     "text": [
      "\n",
      "Epoch: 19\n"
     ]
    },
    {
     "data": {
      "application/vnd.jupyter.widget-view+json": {
       "model_id": "20b673a0f71a4cb9b0df6c3f572f9c8e",
       "version_major": 2,
       "version_minor": 0
      },
      "text/plain": [
       "HBox(children=(IntProgress(value=0), HTML(value='')))"
      ]
     },
     "metadata": {},
     "output_type": "display_data"
    },
    {
     "name": "stdout",
     "output_type": "stream",
     "text": [
      "\n",
      "Epoch: 20\n"
     ]
    },
    {
     "data": {
      "application/vnd.jupyter.widget-view+json": {
       "model_id": "52552bf6a2694a0aa11ac29ced17930d",
       "version_major": 2,
       "version_minor": 0
      },
      "text/plain": [
       "HBox(children=(IntProgress(value=0), HTML(value='')))"
      ]
     },
     "metadata": {},
     "output_type": "display_data"
    },
    {
     "name": "stdout",
     "output_type": "stream",
     "text": [
      "\n",
      "Epoch: 21\n"
     ]
    },
    {
     "data": {
      "application/vnd.jupyter.widget-view+json": {
       "model_id": "566eb4bf555341d0874195442d8a4ef2",
       "version_major": 2,
       "version_minor": 0
      },
      "text/plain": [
       "HBox(children=(IntProgress(value=0), HTML(value='')))"
      ]
     },
     "metadata": {},
     "output_type": "display_data"
    },
    {
     "name": "stdout",
     "output_type": "stream",
     "text": [
      "\n",
      "Epoch: 22\n"
     ]
    },
    {
     "data": {
      "application/vnd.jupyter.widget-view+json": {
       "model_id": "9ede515df6504fab97e2c5794d335112",
       "version_major": 2,
       "version_minor": 0
      },
      "text/plain": [
       "HBox(children=(IntProgress(value=0), HTML(value='')))"
      ]
     },
     "metadata": {},
     "output_type": "display_data"
    },
    {
     "name": "stdout",
     "output_type": "stream",
     "text": [
      "\n",
      "Epoch: 23\n"
     ]
    },
    {
     "data": {
      "application/vnd.jupyter.widget-view+json": {
       "model_id": "ef28db16d7694370bfa0f9219897e1fc",
       "version_major": 2,
       "version_minor": 0
      },
      "text/plain": [
       "HBox(children=(IntProgress(value=0), HTML(value='')))"
      ]
     },
     "metadata": {},
     "output_type": "display_data"
    },
    {
     "name": "stdout",
     "output_type": "stream",
     "text": [
      "\n",
      "Epoch: 24\n"
     ]
    },
    {
     "data": {
      "application/vnd.jupyter.widget-view+json": {
       "model_id": "73984158ec3d49abbd47700dc38490b0",
       "version_major": 2,
       "version_minor": 0
      },
      "text/plain": [
       "HBox(children=(IntProgress(value=0), HTML(value='')))"
      ]
     },
     "metadata": {},
     "output_type": "display_data"
    },
    {
     "name": "stdout",
     "output_type": "stream",
     "text": [
      "\n",
      "Epoch: 25\n"
     ]
    },
    {
     "data": {
      "application/vnd.jupyter.widget-view+json": {
       "model_id": "b12ce58c7e154038a2b7054d85556a14",
       "version_major": 2,
       "version_minor": 0
      },
      "text/plain": [
       "HBox(children=(IntProgress(value=0), HTML(value='')))"
      ]
     },
     "metadata": {},
     "output_type": "display_data"
    },
    {
     "name": "stdout",
     "output_type": "stream",
     "text": [
      "\n",
      "Epoch: 26\n"
     ]
    },
    {
     "data": {
      "application/vnd.jupyter.widget-view+json": {
       "model_id": "7ca75d0593c147398c561429e073f04e",
       "version_major": 2,
       "version_minor": 0
      },
      "text/plain": [
       "HBox(children=(IntProgress(value=0), HTML(value='')))"
      ]
     },
     "metadata": {},
     "output_type": "display_data"
    },
    {
     "name": "stdout",
     "output_type": "stream",
     "text": [
      "\n",
      "Epoch: 27\n"
     ]
    },
    {
     "data": {
      "application/vnd.jupyter.widget-view+json": {
       "model_id": "57e61f65382c48418a431e4d25321a71",
       "version_major": 2,
       "version_minor": 0
      },
      "text/plain": [
       "HBox(children=(IntProgress(value=0), HTML(value='')))"
      ]
     },
     "metadata": {},
     "output_type": "display_data"
    },
    {
     "name": "stdout",
     "output_type": "stream",
     "text": [
      "\n",
      "Epoch: 28\n"
     ]
    },
    {
     "data": {
      "application/vnd.jupyter.widget-view+json": {
       "model_id": "f41cf4d802c84dc1b9d777cccf542d6a",
       "version_major": 2,
       "version_minor": 0
      },
      "text/plain": [
       "HBox(children=(IntProgress(value=0), HTML(value='')))"
      ]
     },
     "metadata": {},
     "output_type": "display_data"
    },
    {
     "name": "stdout",
     "output_type": "stream",
     "text": [
      "\n",
      "Epoch: 29\n"
     ]
    },
    {
     "data": {
      "application/vnd.jupyter.widget-view+json": {
       "model_id": "50b46f11712c43e0bc54a6dbb095eff6",
       "version_major": 2,
       "version_minor": 0
      },
      "text/plain": [
       "HBox(children=(IntProgress(value=0), HTML(value='')))"
      ]
     },
     "metadata": {},
     "output_type": "display_data"
    },
    {
     "name": "stdout",
     "output_type": "stream",
     "text": [
      "\n",
      "Epoch: 30\n"
     ]
    },
    {
     "data": {
      "application/vnd.jupyter.widget-view+json": {
       "model_id": "b26c768268e34e9e97b33b86cd327a0f",
       "version_major": 2,
       "version_minor": 0
      },
      "text/plain": [
       "HBox(children=(IntProgress(value=0), HTML(value='')))"
      ]
     },
     "metadata": {},
     "output_type": "display_data"
    },
    {
     "name": "stdout",
     "output_type": "stream",
     "text": [
      "\n",
      "Epoch: 31\n"
     ]
    },
    {
     "data": {
      "application/vnd.jupyter.widget-view+json": {
       "model_id": "41a845a7c74b4d6a8374d50ae92faab9",
       "version_major": 2,
       "version_minor": 0
      },
      "text/plain": [
       "HBox(children=(IntProgress(value=0), HTML(value='')))"
      ]
     },
     "metadata": {},
     "output_type": "display_data"
    },
    {
     "name": "stdout",
     "output_type": "stream",
     "text": [
      "\n",
      "Epoch: 32\n"
     ]
    },
    {
     "data": {
      "application/vnd.jupyter.widget-view+json": {
       "model_id": "7601201672cc435ea04273a6e807f6a5",
       "version_major": 2,
       "version_minor": 0
      },
      "text/plain": [
       "HBox(children=(IntProgress(value=0), HTML(value='')))"
      ]
     },
     "metadata": {},
     "output_type": "display_data"
    },
    {
     "name": "stdout",
     "output_type": "stream",
     "text": [
      "\n",
      "Epoch: 33\n"
     ]
    },
    {
     "data": {
      "application/vnd.jupyter.widget-view+json": {
       "model_id": "06f45893ad5a4c5280dd68b5a53f1d18",
       "version_major": 2,
       "version_minor": 0
      },
      "text/plain": [
       "HBox(children=(IntProgress(value=0), HTML(value='')))"
      ]
     },
     "metadata": {},
     "output_type": "display_data"
    },
    {
     "name": "stdout",
     "output_type": "stream",
     "text": [
      "\n",
      "Epoch: 34\n"
     ]
    },
    {
     "data": {
      "application/vnd.jupyter.widget-view+json": {
       "model_id": "302b10b6ed4f49ea8c5cb3b6312b829b",
       "version_major": 2,
       "version_minor": 0
      },
      "text/plain": [
       "HBox(children=(IntProgress(value=0), HTML(value='')))"
      ]
     },
     "metadata": {},
     "output_type": "display_data"
    },
    {
     "name": "stdout",
     "output_type": "stream",
     "text": [
      "\n",
      "Epoch: 35\n"
     ]
    },
    {
     "data": {
      "application/vnd.jupyter.widget-view+json": {
       "model_id": "8489968e8050431a89c26b5c41c53045",
       "version_major": 2,
       "version_minor": 0
      },
      "text/plain": [
       "HBox(children=(IntProgress(value=0), HTML(value='')))"
      ]
     },
     "metadata": {},
     "output_type": "display_data"
    },
    {
     "name": "stdout",
     "output_type": "stream",
     "text": [
      "\n",
      "Epoch: 36\n"
     ]
    },
    {
     "data": {
      "application/vnd.jupyter.widget-view+json": {
       "model_id": "0b5592f837ba4a168bb951f8e9591526",
       "version_major": 2,
       "version_minor": 0
      },
      "text/plain": [
       "HBox(children=(IntProgress(value=0), HTML(value='')))"
      ]
     },
     "metadata": {},
     "output_type": "display_data"
    },
    {
     "name": "stdout",
     "output_type": "stream",
     "text": [
      "\n",
      "Epoch: 37\n"
     ]
    },
    {
     "data": {
      "application/vnd.jupyter.widget-view+json": {
       "model_id": "3418e37c05b346b99f47d0bce2b432d6",
       "version_major": 2,
       "version_minor": 0
      },
      "text/plain": [
       "HBox(children=(IntProgress(value=0), HTML(value='')))"
      ]
     },
     "metadata": {},
     "output_type": "display_data"
    },
    {
     "name": "stdout",
     "output_type": "stream",
     "text": [
      "\n",
      "Epoch: 38\n"
     ]
    },
    {
     "data": {
      "application/vnd.jupyter.widget-view+json": {
       "model_id": "b96633607e434818aa8d705781433e2a",
       "version_major": 2,
       "version_minor": 0
      },
      "text/plain": [
       "HBox(children=(IntProgress(value=0), HTML(value='')))"
      ]
     },
     "metadata": {},
     "output_type": "display_data"
    },
    {
     "name": "stdout",
     "output_type": "stream",
     "text": [
      "\n",
      "Epoch: 39\n"
     ]
    },
    {
     "data": {
      "application/vnd.jupyter.widget-view+json": {
       "model_id": "e53b5dfa618d414381c85334121edee8",
       "version_major": 2,
       "version_minor": 0
      },
      "text/plain": [
       "HBox(children=(IntProgress(value=0), HTML(value='')))"
      ]
     },
     "metadata": {},
     "output_type": "display_data"
    },
    {
     "name": "stdout",
     "output_type": "stream",
     "text": [
      "\n",
      "Epoch: 40\n"
     ]
    },
    {
     "data": {
      "application/vnd.jupyter.widget-view+json": {
       "model_id": "8d57b8b782944430b5e81485ee232882",
       "version_major": 2,
       "version_minor": 0
      },
      "text/plain": [
       "HBox(children=(IntProgress(value=0), HTML(value='')))"
      ]
     },
     "metadata": {},
     "output_type": "display_data"
    },
    {
     "name": "stdout",
     "output_type": "stream",
     "text": [
      "\n",
      "Epoch: 41\n"
     ]
    },
    {
     "data": {
      "application/vnd.jupyter.widget-view+json": {
       "model_id": "f9e99539ae7b4c31bfe013ea41f7e343",
       "version_major": 2,
       "version_minor": 0
      },
      "text/plain": [
       "HBox(children=(IntProgress(value=0), HTML(value='')))"
      ]
     },
     "metadata": {},
     "output_type": "display_data"
    },
    {
     "name": "stdout",
     "output_type": "stream",
     "text": [
      "\n",
      "Epoch: 42\n"
     ]
    },
    {
     "data": {
      "application/vnd.jupyter.widget-view+json": {
       "model_id": "166da7c69e9e431ea1e985a98915f873",
       "version_major": 2,
       "version_minor": 0
      },
      "text/plain": [
       "HBox(children=(IntProgress(value=0), HTML(value='')))"
      ]
     },
     "metadata": {},
     "output_type": "display_data"
    },
    {
     "name": "stdout",
     "output_type": "stream",
     "text": [
      "\n",
      "Epoch: 43\n"
     ]
    },
    {
     "data": {
      "application/vnd.jupyter.widget-view+json": {
       "model_id": "46832a13040e405c81ea815e77c95095",
       "version_major": 2,
       "version_minor": 0
      },
      "text/plain": [
       "HBox(children=(IntProgress(value=0), HTML(value='')))"
      ]
     },
     "metadata": {},
     "output_type": "display_data"
    },
    {
     "name": "stdout",
     "output_type": "stream",
     "text": [
      "\n",
      "Epoch: 44\n"
     ]
    },
    {
     "data": {
      "application/vnd.jupyter.widget-view+json": {
       "model_id": "24e95931b6804519a4ffc2a800c3b496",
       "version_major": 2,
       "version_minor": 0
      },
      "text/plain": [
       "HBox(children=(IntProgress(value=0), HTML(value='')))"
      ]
     },
     "metadata": {},
     "output_type": "display_data"
    },
    {
     "name": "stdout",
     "output_type": "stream",
     "text": [
      "\n",
      "Epoch: 45\n"
     ]
    },
    {
     "data": {
      "application/vnd.jupyter.widget-view+json": {
       "model_id": "b3af8aa8fc4e4525be46d5e3a56a049c",
       "version_major": 2,
       "version_minor": 0
      },
      "text/plain": [
       "HBox(children=(IntProgress(value=0), HTML(value='')))"
      ]
     },
     "metadata": {},
     "output_type": "display_data"
    },
    {
     "name": "stdout",
     "output_type": "stream",
     "text": [
      "\n",
      "Epoch: 46\n"
     ]
    },
    {
     "data": {
      "application/vnd.jupyter.widget-view+json": {
       "model_id": "ff3d569ab5274672904d552d41a3d799",
       "version_major": 2,
       "version_minor": 0
      },
      "text/plain": [
       "HBox(children=(IntProgress(value=0), HTML(value='')))"
      ]
     },
     "metadata": {},
     "output_type": "display_data"
    },
    {
     "name": "stdout",
     "output_type": "stream",
     "text": [
      "\n",
      "Epoch: 47\n"
     ]
    },
    {
     "data": {
      "application/vnd.jupyter.widget-view+json": {
       "model_id": "7d5fe3a2f26042d49db46d92e1054223",
       "version_major": 2,
       "version_minor": 0
      },
      "text/plain": [
       "HBox(children=(IntProgress(value=0), HTML(value='')))"
      ]
     },
     "metadata": {},
     "output_type": "display_data"
    },
    {
     "name": "stdout",
     "output_type": "stream",
     "text": [
      "\n",
      "Epoch: 48\n"
     ]
    },
    {
     "data": {
      "application/vnd.jupyter.widget-view+json": {
       "model_id": "872be29188ee43b08e6bf75598f5220e",
       "version_major": 2,
       "version_minor": 0
      },
      "text/plain": [
       "HBox(children=(IntProgress(value=0), HTML(value='')))"
      ]
     },
     "metadata": {},
     "output_type": "display_data"
    },
    {
     "name": "stdout",
     "output_type": "stream",
     "text": [
      "\n",
      "Epoch: 49\n"
     ]
    },
    {
     "data": {
      "application/vnd.jupyter.widget-view+json": {
       "model_id": "e1362830d39142ac8e5d1b6c26a8fbf8",
       "version_major": 2,
       "version_minor": 0
      },
      "text/plain": [
       "HBox(children=(IntProgress(value=0), HTML(value='')))"
      ]
     },
     "metadata": {},
     "output_type": "display_data"
    },
    {
     "name": "stdout",
     "output_type": "stream",
     "text": [
      "\n",
      "Epoch: 50\n"
     ]
    },
    {
     "data": {
      "application/vnd.jupyter.widget-view+json": {
       "model_id": "e0eacacad0724fc6b7611198b096bfcd",
       "version_major": 2,
       "version_minor": 0
      },
      "text/plain": [
       "HBox(children=(IntProgress(value=0), HTML(value='')))"
      ]
     },
     "metadata": {},
     "output_type": "display_data"
    },
    {
     "name": "stdout",
     "output_type": "stream",
     "text": [
      "\n",
      "Epoch: 51\n"
     ]
    },
    {
     "data": {
      "application/vnd.jupyter.widget-view+json": {
       "model_id": "1e965ac79d4d4ecfa441a119e560f046",
       "version_major": 2,
       "version_minor": 0
      },
      "text/plain": [
       "HBox(children=(IntProgress(value=0), HTML(value='')))"
      ]
     },
     "metadata": {},
     "output_type": "display_data"
    },
    {
     "name": "stdout",
     "output_type": "stream",
     "text": [
      "\n",
      "Epoch: 52\n"
     ]
    },
    {
     "data": {
      "application/vnd.jupyter.widget-view+json": {
       "model_id": "e4bda17a2de04fc7bbfc9d3638bfd4ed",
       "version_major": 2,
       "version_minor": 0
      },
      "text/plain": [
       "HBox(children=(IntProgress(value=0), HTML(value='')))"
      ]
     },
     "metadata": {},
     "output_type": "display_data"
    },
    {
     "name": "stdout",
     "output_type": "stream",
     "text": [
      "\n",
      "Epoch: 53\n"
     ]
    },
    {
     "data": {
      "application/vnd.jupyter.widget-view+json": {
       "model_id": "c2f7533d7eb042f486b275ae8aeb5686",
       "version_major": 2,
       "version_minor": 0
      },
      "text/plain": [
       "HBox(children=(IntProgress(value=0), HTML(value='')))"
      ]
     },
     "metadata": {},
     "output_type": "display_data"
    },
    {
     "name": "stdout",
     "output_type": "stream",
     "text": [
      "\n",
      "Epoch: 54\n"
     ]
    },
    {
     "data": {
      "application/vnd.jupyter.widget-view+json": {
       "model_id": "89d8f223877942ad9463329afaf6d7dd",
       "version_major": 2,
       "version_minor": 0
      },
      "text/plain": [
       "HBox(children=(IntProgress(value=0), HTML(value='')))"
      ]
     },
     "metadata": {},
     "output_type": "display_data"
    },
    {
     "name": "stdout",
     "output_type": "stream",
     "text": [
      "\n",
      "Epoch: 55\n"
     ]
    },
    {
     "data": {
      "application/vnd.jupyter.widget-view+json": {
       "model_id": "33a45597d4024b7b9b40d118b1970210",
       "version_major": 2,
       "version_minor": 0
      },
      "text/plain": [
       "HBox(children=(IntProgress(value=0), HTML(value='')))"
      ]
     },
     "metadata": {},
     "output_type": "display_data"
    },
    {
     "name": "stdout",
     "output_type": "stream",
     "text": [
      "\n",
      "Epoch: 56\n"
     ]
    },
    {
     "data": {
      "application/vnd.jupyter.widget-view+json": {
       "model_id": "8291e900ea1f455a8ad42b9b7f1cd305",
       "version_major": 2,
       "version_minor": 0
      },
      "text/plain": [
       "HBox(children=(IntProgress(value=0), HTML(value='')))"
      ]
     },
     "metadata": {},
     "output_type": "display_data"
    },
    {
     "name": "stdout",
     "output_type": "stream",
     "text": [
      "\n",
      "Epoch: 57\n"
     ]
    },
    {
     "data": {
      "application/vnd.jupyter.widget-view+json": {
       "model_id": "fd1bfcd1797c477ea3e6fa20c478605d",
       "version_major": 2,
       "version_minor": 0
      },
      "text/plain": [
       "HBox(children=(IntProgress(value=0), HTML(value='')))"
      ]
     },
     "metadata": {},
     "output_type": "display_data"
    },
    {
     "name": "stdout",
     "output_type": "stream",
     "text": [
      "\n",
      "Epoch: 58\n"
     ]
    },
    {
     "data": {
      "application/vnd.jupyter.widget-view+json": {
       "model_id": "75de67e86551462e909bb29826742488",
       "version_major": 2,
       "version_minor": 0
      },
      "text/plain": [
       "HBox(children=(IntProgress(value=0), HTML(value='')))"
      ]
     },
     "metadata": {},
     "output_type": "display_data"
    },
    {
     "name": "stdout",
     "output_type": "stream",
     "text": [
      "\n",
      "Epoch: 59\n"
     ]
    },
    {
     "data": {
      "application/vnd.jupyter.widget-view+json": {
       "model_id": "ec147e09960d49e4ac4d1f456f2d5ded",
       "version_major": 2,
       "version_minor": 0
      },
      "text/plain": [
       "HBox(children=(IntProgress(value=0), HTML(value='')))"
      ]
     },
     "metadata": {},
     "output_type": "display_data"
    },
    {
     "name": "stdout",
     "output_type": "stream",
     "text": [
      "\n",
      "Epoch: 60\n"
     ]
    },
    {
     "data": {
      "application/vnd.jupyter.widget-view+json": {
       "model_id": "8142b05231df401c835a0ef18b83ecde",
       "version_major": 2,
       "version_minor": 0
      },
      "text/plain": [
       "HBox(children=(IntProgress(value=0), HTML(value='')))"
      ]
     },
     "metadata": {},
     "output_type": "display_data"
    },
    {
     "name": "stdout",
     "output_type": "stream",
     "text": [
      "\n",
      "Epoch: 61\n"
     ]
    },
    {
     "data": {
      "application/vnd.jupyter.widget-view+json": {
       "model_id": "8d5b3d6a356f4eefb65a34cdec79ed35",
       "version_major": 2,
       "version_minor": 0
      },
      "text/plain": [
       "HBox(children=(IntProgress(value=0), HTML(value='')))"
      ]
     },
     "metadata": {},
     "output_type": "display_data"
    },
    {
     "name": "stdout",
     "output_type": "stream",
     "text": [
      "\n",
      "Epoch: 62\n"
     ]
    },
    {
     "data": {
      "application/vnd.jupyter.widget-view+json": {
       "model_id": "5a7a11f145d447a68e77b5dd965f896c",
       "version_major": 2,
       "version_minor": 0
      },
      "text/plain": [
       "HBox(children=(IntProgress(value=0), HTML(value='')))"
      ]
     },
     "metadata": {},
     "output_type": "display_data"
    },
    {
     "name": "stdout",
     "output_type": "stream",
     "text": [
      "\n",
      "Epoch: 63\n"
     ]
    },
    {
     "data": {
      "application/vnd.jupyter.widget-view+json": {
       "model_id": "dbbf48f234c7489b90b29476f8360577",
       "version_major": 2,
       "version_minor": 0
      },
      "text/plain": [
       "HBox(children=(IntProgress(value=0), HTML(value='')))"
      ]
     },
     "metadata": {},
     "output_type": "display_data"
    },
    {
     "name": "stdout",
     "output_type": "stream",
     "text": [
      "\n",
      "Epoch: 64\n"
     ]
    },
    {
     "data": {
      "application/vnd.jupyter.widget-view+json": {
       "model_id": "cf13092d0542426a880c1d69c5bb2d19",
       "version_major": 2,
       "version_minor": 0
      },
      "text/plain": [
       "HBox(children=(IntProgress(value=0), HTML(value='')))"
      ]
     },
     "metadata": {},
     "output_type": "display_data"
    },
    {
     "name": "stdout",
     "output_type": "stream",
     "text": [
      "\n",
      "Epoch: 65\n"
     ]
    },
    {
     "data": {
      "application/vnd.jupyter.widget-view+json": {
       "model_id": "fe57fe5d91744f23bf4ad8aa52c5db8d",
       "version_major": 2,
       "version_minor": 0
      },
      "text/plain": [
       "HBox(children=(IntProgress(value=0), HTML(value='')))"
      ]
     },
     "metadata": {},
     "output_type": "display_data"
    },
    {
     "name": "stdout",
     "output_type": "stream",
     "text": [
      "\n",
      "Epoch: 66\n"
     ]
    },
    {
     "data": {
      "application/vnd.jupyter.widget-view+json": {
       "model_id": "6d3adbb722ca4962a525081c5967575e",
       "version_major": 2,
       "version_minor": 0
      },
      "text/plain": [
       "HBox(children=(IntProgress(value=0), HTML(value='')))"
      ]
     },
     "metadata": {},
     "output_type": "display_data"
    },
    {
     "name": "stdout",
     "output_type": "stream",
     "text": [
      "\n",
      "Epoch: 67\n"
     ]
    },
    {
     "data": {
      "application/vnd.jupyter.widget-view+json": {
       "model_id": "f582d274cbdd4764ac1ed60097bac967",
       "version_major": 2,
       "version_minor": 0
      },
      "text/plain": [
       "HBox(children=(IntProgress(value=0), HTML(value='')))"
      ]
     },
     "metadata": {},
     "output_type": "display_data"
    },
    {
     "name": "stdout",
     "output_type": "stream",
     "text": [
      "\n",
      "Epoch: 68\n"
     ]
    },
    {
     "data": {
      "application/vnd.jupyter.widget-view+json": {
       "model_id": "bcc43a26e92543f8aea09da9d4dbe380",
       "version_major": 2,
       "version_minor": 0
      },
      "text/plain": [
       "HBox(children=(IntProgress(value=0), HTML(value='')))"
      ]
     },
     "metadata": {},
     "output_type": "display_data"
    },
    {
     "name": "stdout",
     "output_type": "stream",
     "text": [
      "\n",
      "Epoch: 69\n"
     ]
    },
    {
     "data": {
      "application/vnd.jupyter.widget-view+json": {
       "model_id": "448bc5269a1e4774b7f9483089f5c15d",
       "version_major": 2,
       "version_minor": 0
      },
      "text/plain": [
       "HBox(children=(IntProgress(value=0), HTML(value='')))"
      ]
     },
     "metadata": {},
     "output_type": "display_data"
    },
    {
     "name": "stdout",
     "output_type": "stream",
     "text": [
      "\n",
      "Epoch: 70\n"
     ]
    },
    {
     "data": {
      "application/vnd.jupyter.widget-view+json": {
       "model_id": "9b52a3687131403280f598eda8417324",
       "version_major": 2,
       "version_minor": 0
      },
      "text/plain": [
       "HBox(children=(IntProgress(value=0), HTML(value='')))"
      ]
     },
     "metadata": {},
     "output_type": "display_data"
    },
    {
     "name": "stdout",
     "output_type": "stream",
     "text": [
      "\n",
      "Epoch: 71\n"
     ]
    },
    {
     "data": {
      "application/vnd.jupyter.widget-view+json": {
       "model_id": "ee8c8b991a934d4a952852dcb1774eef",
       "version_major": 2,
       "version_minor": 0
      },
      "text/plain": [
       "HBox(children=(IntProgress(value=0), HTML(value='')))"
      ]
     },
     "metadata": {},
     "output_type": "display_data"
    },
    {
     "name": "stdout",
     "output_type": "stream",
     "text": [
      "\n",
      "Epoch: 72\n"
     ]
    },
    {
     "data": {
      "application/vnd.jupyter.widget-view+json": {
       "model_id": "b7e0d157461b4437a47a3ec1f3228990",
       "version_major": 2,
       "version_minor": 0
      },
      "text/plain": [
       "HBox(children=(IntProgress(value=0), HTML(value='')))"
      ]
     },
     "metadata": {},
     "output_type": "display_data"
    },
    {
     "name": "stdout",
     "output_type": "stream",
     "text": [
      "\n",
      "Epoch: 73\n"
     ]
    },
    {
     "data": {
      "application/vnd.jupyter.widget-view+json": {
       "model_id": "a489c9d216cc4786a21c76d878de9f9f",
       "version_major": 2,
       "version_minor": 0
      },
      "text/plain": [
       "HBox(children=(IntProgress(value=0), HTML(value='')))"
      ]
     },
     "metadata": {},
     "output_type": "display_data"
    },
    {
     "name": "stdout",
     "output_type": "stream",
     "text": [
      "\n",
      "Epoch: 74\n"
     ]
    },
    {
     "data": {
      "application/vnd.jupyter.widget-view+json": {
       "model_id": "d3938dfc1b2d409ab7e720c8bfcb4078",
       "version_major": 2,
       "version_minor": 0
      },
      "text/plain": [
       "HBox(children=(IntProgress(value=0), HTML(value='')))"
      ]
     },
     "metadata": {},
     "output_type": "display_data"
    },
    {
     "name": "stdout",
     "output_type": "stream",
     "text": [
      "\n",
      "Epoch: 75\n"
     ]
    },
    {
     "data": {
      "application/vnd.jupyter.widget-view+json": {
       "model_id": "00129d50b6e54bdba5ac11d1a9648d6d",
       "version_major": 2,
       "version_minor": 0
      },
      "text/plain": [
       "HBox(children=(IntProgress(value=0), HTML(value='')))"
      ]
     },
     "metadata": {},
     "output_type": "display_data"
    },
    {
     "name": "stdout",
     "output_type": "stream",
     "text": [
      "\n",
      "Epoch: 76\n"
     ]
    },
    {
     "data": {
      "application/vnd.jupyter.widget-view+json": {
       "model_id": "f126863f463649989376a226c1f6e8db",
       "version_major": 2,
       "version_minor": 0
      },
      "text/plain": [
       "HBox(children=(IntProgress(value=0), HTML(value='')))"
      ]
     },
     "metadata": {},
     "output_type": "display_data"
    },
    {
     "name": "stdout",
     "output_type": "stream",
     "text": [
      "\n",
      "Epoch: 77\n"
     ]
    },
    {
     "data": {
      "application/vnd.jupyter.widget-view+json": {
       "model_id": "682880726a9a4f92a512dbf258267e15",
       "version_major": 2,
       "version_minor": 0
      },
      "text/plain": [
       "HBox(children=(IntProgress(value=0), HTML(value='')))"
      ]
     },
     "metadata": {},
     "output_type": "display_data"
    },
    {
     "name": "stdout",
     "output_type": "stream",
     "text": [
      "\n",
      "Epoch: 78\n"
     ]
    },
    {
     "data": {
      "application/vnd.jupyter.widget-view+json": {
       "model_id": "4578949d65da474f8ea6dd1582022a2d",
       "version_major": 2,
       "version_minor": 0
      },
      "text/plain": [
       "HBox(children=(IntProgress(value=0), HTML(value='')))"
      ]
     },
     "metadata": {},
     "output_type": "display_data"
    },
    {
     "name": "stdout",
     "output_type": "stream",
     "text": [
      "\n",
      "Epoch: 79\n"
     ]
    },
    {
     "data": {
      "application/vnd.jupyter.widget-view+json": {
       "model_id": "a417ad2eb9934438a390e1aa8a5fca30",
       "version_major": 2,
       "version_minor": 0
      },
      "text/plain": [
       "HBox(children=(IntProgress(value=0), HTML(value='')))"
      ]
     },
     "metadata": {},
     "output_type": "display_data"
    },
    {
     "name": "stdout",
     "output_type": "stream",
     "text": [
      "\n",
      "Epoch: 80\n"
     ]
    },
    {
     "data": {
      "application/vnd.jupyter.widget-view+json": {
       "model_id": "a0f11b5aafbf4b539abb53f54543229e",
       "version_major": 2,
       "version_minor": 0
      },
      "text/plain": [
       "HBox(children=(IntProgress(value=0), HTML(value='')))"
      ]
     },
     "metadata": {},
     "output_type": "display_data"
    },
    {
     "name": "stdout",
     "output_type": "stream",
     "text": [
      "\n",
      "Epoch: 81\n"
     ]
    },
    {
     "data": {
      "application/vnd.jupyter.widget-view+json": {
       "model_id": "ab0c84da0b12481aa99fd91cda74a3be",
       "version_major": 2,
       "version_minor": 0
      },
      "text/plain": [
       "HBox(children=(IntProgress(value=0), HTML(value='')))"
      ]
     },
     "metadata": {},
     "output_type": "display_data"
    },
    {
     "name": "stdout",
     "output_type": "stream",
     "text": [
      "\n",
      "Epoch: 82\n"
     ]
    },
    {
     "data": {
      "application/vnd.jupyter.widget-view+json": {
       "model_id": "5cb17f89e0d24fd4a7e2de36e4795055",
       "version_major": 2,
       "version_minor": 0
      },
      "text/plain": [
       "HBox(children=(IntProgress(value=0), HTML(value='')))"
      ]
     },
     "metadata": {},
     "output_type": "display_data"
    },
    {
     "name": "stdout",
     "output_type": "stream",
     "text": [
      "\n",
      "Epoch: 83\n"
     ]
    },
    {
     "data": {
      "application/vnd.jupyter.widget-view+json": {
       "model_id": "d6fe0593b1f8458a916902b501c9036d",
       "version_major": 2,
       "version_minor": 0
      },
      "text/plain": [
       "HBox(children=(IntProgress(value=0), HTML(value='')))"
      ]
     },
     "metadata": {},
     "output_type": "display_data"
    },
    {
     "name": "stdout",
     "output_type": "stream",
     "text": [
      "\n",
      "Epoch: 84\n"
     ]
    },
    {
     "data": {
      "application/vnd.jupyter.widget-view+json": {
       "model_id": "3d972875a56f423a9c5386888ede256a",
       "version_major": 2,
       "version_minor": 0
      },
      "text/plain": [
       "HBox(children=(IntProgress(value=0), HTML(value='')))"
      ]
     },
     "metadata": {},
     "output_type": "display_data"
    },
    {
     "name": "stdout",
     "output_type": "stream",
     "text": [
      "\n",
      "Epoch: 85\n"
     ]
    },
    {
     "data": {
      "application/vnd.jupyter.widget-view+json": {
       "model_id": "49e925cd2d4a4786ad49f33c963c8d77",
       "version_major": 2,
       "version_minor": 0
      },
      "text/plain": [
       "HBox(children=(IntProgress(value=0), HTML(value='')))"
      ]
     },
     "metadata": {},
     "output_type": "display_data"
    },
    {
     "name": "stdout",
     "output_type": "stream",
     "text": [
      "\n",
      "Epoch: 86\n"
     ]
    },
    {
     "data": {
      "application/vnd.jupyter.widget-view+json": {
       "model_id": "7f899103037a479d8e578d0ec59d8ba7",
       "version_major": 2,
       "version_minor": 0
      },
      "text/plain": [
       "HBox(children=(IntProgress(value=0), HTML(value='')))"
      ]
     },
     "metadata": {},
     "output_type": "display_data"
    },
    {
     "name": "stdout",
     "output_type": "stream",
     "text": [
      "\n",
      "Epoch: 87\n"
     ]
    },
    {
     "data": {
      "application/vnd.jupyter.widget-view+json": {
       "model_id": "beb815450a34434c87eb7a3b183cf7e7",
       "version_major": 2,
       "version_minor": 0
      },
      "text/plain": [
       "HBox(children=(IntProgress(value=0), HTML(value='')))"
      ]
     },
     "metadata": {},
     "output_type": "display_data"
    },
    {
     "name": "stdout",
     "output_type": "stream",
     "text": [
      "\n",
      "Epoch: 88\n"
     ]
    },
    {
     "data": {
      "application/vnd.jupyter.widget-view+json": {
       "model_id": "508298d1775b41d59287bd50dc3f036f",
       "version_major": 2,
       "version_minor": 0
      },
      "text/plain": [
       "HBox(children=(IntProgress(value=0), HTML(value='')))"
      ]
     },
     "metadata": {},
     "output_type": "display_data"
    },
    {
     "name": "stdout",
     "output_type": "stream",
     "text": [
      "\n",
      "Epoch: 89\n"
     ]
    },
    {
     "data": {
      "application/vnd.jupyter.widget-view+json": {
       "model_id": "a4f92cf0b8cd4fd0969ab6c60feb62cc",
       "version_major": 2,
       "version_minor": 0
      },
      "text/plain": [
       "HBox(children=(IntProgress(value=0), HTML(value='')))"
      ]
     },
     "metadata": {},
     "output_type": "display_data"
    },
    {
     "name": "stdout",
     "output_type": "stream",
     "text": [
      "\n",
      "Epoch: 90\n"
     ]
    },
    {
     "data": {
      "application/vnd.jupyter.widget-view+json": {
       "model_id": "39aab1f3104e464294750bccb874eff5",
       "version_major": 2,
       "version_minor": 0
      },
      "text/plain": [
       "HBox(children=(IntProgress(value=0), HTML(value='')))"
      ]
     },
     "metadata": {},
     "output_type": "display_data"
    },
    {
     "name": "stdout",
     "output_type": "stream",
     "text": [
      "\n",
      "Epoch: 91\n"
     ]
    },
    {
     "data": {
      "application/vnd.jupyter.widget-view+json": {
       "model_id": "2a839feb9f3b49f689d6d07a8a92abf9",
       "version_major": 2,
       "version_minor": 0
      },
      "text/plain": [
       "HBox(children=(IntProgress(value=0), HTML(value='')))"
      ]
     },
     "metadata": {},
     "output_type": "display_data"
    },
    {
     "name": "stdout",
     "output_type": "stream",
     "text": [
      "\n",
      "Epoch: 92\n"
     ]
    },
    {
     "data": {
      "application/vnd.jupyter.widget-view+json": {
       "model_id": "151a59a2c97e4e3c9e654c7135da15b0",
       "version_major": 2,
       "version_minor": 0
      },
      "text/plain": [
       "HBox(children=(IntProgress(value=0), HTML(value='')))"
      ]
     },
     "metadata": {},
     "output_type": "display_data"
    },
    {
     "name": "stdout",
     "output_type": "stream",
     "text": [
      "\n",
      "Epoch: 93\n"
     ]
    },
    {
     "data": {
      "application/vnd.jupyter.widget-view+json": {
       "model_id": "f314a38ecf474d7fbdd9a72e45247e55",
       "version_major": 2,
       "version_minor": 0
      },
      "text/plain": [
       "HBox(children=(IntProgress(value=0), HTML(value='')))"
      ]
     },
     "metadata": {},
     "output_type": "display_data"
    },
    {
     "name": "stdout",
     "output_type": "stream",
     "text": [
      "\n",
      "Epoch: 94\n"
     ]
    },
    {
     "data": {
      "application/vnd.jupyter.widget-view+json": {
       "model_id": "c9d60df98def4524b27f6c1cb1a4217b",
       "version_major": 2,
       "version_minor": 0
      },
      "text/plain": [
       "HBox(children=(IntProgress(value=0), HTML(value='')))"
      ]
     },
     "metadata": {},
     "output_type": "display_data"
    },
    {
     "name": "stdout",
     "output_type": "stream",
     "text": [
      "\n",
      "Epoch: 95\n"
     ]
    },
    {
     "data": {
      "application/vnd.jupyter.widget-view+json": {
       "model_id": "30f4877ee81344739b8b9ca7e11fae8a",
       "version_major": 2,
       "version_minor": 0
      },
      "text/plain": [
       "HBox(children=(IntProgress(value=0), HTML(value='')))"
      ]
     },
     "metadata": {},
     "output_type": "display_data"
    },
    {
     "name": "stdout",
     "output_type": "stream",
     "text": [
      "\n",
      "Epoch: 96\n"
     ]
    },
    {
     "data": {
      "application/vnd.jupyter.widget-view+json": {
       "model_id": "52b2b1f809eb44b3af885e67a03dcce2",
       "version_major": 2,
       "version_minor": 0
      },
      "text/plain": [
       "HBox(children=(IntProgress(value=0), HTML(value='')))"
      ]
     },
     "metadata": {},
     "output_type": "display_data"
    },
    {
     "name": "stdout",
     "output_type": "stream",
     "text": [
      "\n",
      "Epoch: 97\n"
     ]
    },
    {
     "data": {
      "application/vnd.jupyter.widget-view+json": {
       "model_id": "fa1e2e4581534c8e8b144a5b99eec707",
       "version_major": 2,
       "version_minor": 0
      },
      "text/plain": [
       "HBox(children=(IntProgress(value=0), HTML(value='')))"
      ]
     },
     "metadata": {},
     "output_type": "display_data"
    },
    {
     "name": "stdout",
     "output_type": "stream",
     "text": [
      "\n",
      "Epoch: 98\n"
     ]
    },
    {
     "data": {
      "application/vnd.jupyter.widget-view+json": {
       "model_id": "e292939a2cdc41fab9434bd5d4db5f8c",
       "version_major": 2,
       "version_minor": 0
      },
      "text/plain": [
       "HBox(children=(IntProgress(value=0), HTML(value='')))"
      ]
     },
     "metadata": {},
     "output_type": "display_data"
    },
    {
     "name": "stdout",
     "output_type": "stream",
     "text": [
      "\n",
      "Epoch: 99\n"
     ]
    },
    {
     "data": {
      "application/vnd.jupyter.widget-view+json": {
       "model_id": "f186656ecb7d4290b6df6265bae5df6d",
       "version_major": 2,
       "version_minor": 0
      },
      "text/plain": [
       "HBox(children=(IntProgress(value=0), HTML(value='')))"
      ]
     },
     "metadata": {},
     "output_type": "display_data"
    },
    {
     "name": "stdout",
     "output_type": "stream",
     "text": [
      "\n"
     ]
    }
   ],
   "source": [
    "real_label = 0.9  # single-side label smoothing.\n",
    "fake_label = 0\n",
    "for epoch in range(EPOCHS):\n",
    "    print('Epoch:', epoch)\n",
    "    progress_bar = tqdm.tqdm_notebook(zip(uniform_dataloader, normal_dataloader),\n",
    "                                      total=len(uniform_dataloader))\n",
    "    for input_, target in progress_bar:\n",
    "        input_, target = input_.float().to(device), target.float().to(device)\n",
    "        # Train discriminator with real batch\n",
    "        optimizerD.zero_grad()\n",
    "        # Format batch\n",
    "        label = torch.full_like(target[:, 0, 0], real_label, device=device)\n",
    "        \n",
    "        ############################\n",
    "        # (1) Update D network: maximize log(D(x)) + log(1 - D(G(z)))\n",
    "        ###########################\n",
    "        # Forward pass real batch through D\n",
    "        output = discriminator(target).view(-1)\n",
    "        # Calculate loss on all-real batch\n",
    "        errD_real = criterion(output, label)\n",
    "        # Calculate gradients for D in backward pass\n",
    "        errD_real.backward()\n",
    "        D_x = output.mean().item()\n",
    "\n",
    "        # Train with fake batch\n",
    "        # Generate fake batch with G\n",
    "        fake = generator(input_)\n",
    "        label.fill_(fake_label)\n",
    "        # Forward pass fake batch through D\n",
    "        output = discriminator(fake.detach()).view(-1)\n",
    "        # Calculate D's loss on the all-fake batch\n",
    "        errD_fake = criterion(output, label)\n",
    "        # Calculate the gradients for this batch\n",
    "        errD_fake.backward()\n",
    "        D_G_z1 = output.mean().item()\n",
    "        # Add the gradients from the all-real and all-fake batches\n",
    "        errD = errD_real + errD_fake\n",
    "        # Update D\n",
    "        optimizerD.step()\n",
    "\n",
    "        ############################\n",
    "        # (2) Update G network: maximize log(D(G(z)))\n",
    "        ###########################\n",
    "        optimizerG.zero_grad()\n",
    "        label.fill_(real_label)  # fake labels are real for generator cost\n",
    "        # Since we just updated D, perform another forward pass of all-fake batch through D\n",
    "        output = discriminator(fake).view(-1)\n",
    "        # Calculate G's loss based on this output\n",
    "        errG = criterion(output, label)\n",
    "        # Calculate gradients for G\n",
    "        errG.backward()\n",
    "        D_G_z2 = output.mean().item()\n",
    "        # Update G\n",
    "        optimizerG.step()\n",
    "\n",
    "        progress_bar.set_postfix({'Discriminator loss': errD.item(), 'Generator loss': errG.item()})"
   ]
  },
  {
   "cell_type": "code",
   "execution_count": 9,
   "metadata": {},
   "outputs": [],
   "source": [
    "from matplotlib import pyplot as plt\n",
    "import seaborn as sns\n",
    "%matplotlib notebook"
   ]
  },
  {
   "cell_type": "code",
   "execution_count": 10,
   "metadata": {},
   "outputs": [],
   "source": [
    "input_ = torch.tensor([uniform_dataset[i] for i in range(1000)], device=device, dtype=torch.float)\n",
    "with torch.no_grad():\n",
    "    # Model forward pass.\n",
    "    output = generator(input_)\n"
   ]
  },
  {
   "cell_type": "code",
   "execution_count": 11,
   "metadata": {},
   "outputs": [
    {
     "data": {
      "text/plain": [
       "torch.Size([1000, 1, 1])"
      ]
     },
     "execution_count": 11,
     "metadata": {},
     "output_type": "execute_result"
    }
   ],
   "source": [
    "output.size()"
   ]
  },
  {
   "cell_type": "code",
   "execution_count": 12,
   "metadata": {},
   "outputs": [
    {
     "data": {
      "image/png": "[encoded data removed]",
      "text/plain": [
       "<Figure size 432x288 with 1 Axes>"
      ]
     },
     "metadata": {},
     "output_type": "display_data"
    }
   ],
   "source": [
    "plt.scatter(output[:,0].transpose(1,0).tolist(), np.random.normal(0, 0.1, size=output.size(0)));"
   ]
  },
  {
   "cell_type": "code",
   "execution_count": 13,
   "metadata": {},
   "outputs": [
    {
     "data": {
      "text/plain": [
       "<matplotlib.axes._subplots.AxesSubplot at 0x1a1bfb19b0>"
      ]
     },
     "execution_count": 13,
     "metadata": {},
     "output_type": "execute_result"
    },
    {
     "data": {
      "image/png": "[encoded data removed]",
      "text/plain": [
       "<Figure size 432x288 with 1 Axes>"
      ]
     },
     "metadata": {},
     "output_type": "display_data"
    }
   ],
   "source": [
    "sns.distplot(output[:,0].cpu().numpy().T, rug=True, hist=False)"
   ]
  },
  {
   "cell_type": "code",
   "execution_count": 14,
   "metadata": {
    "scrolled": true
   },
   "outputs": [
    {
     "name": "stdout",
     "output_type": "stream",
     "text": [
      "-0.1445697695016861\n",
      "-0.94377201795578\n",
      "0.209812730550766\n",
      "-0.04212966561317444\n",
      "0.6230037212371826\n",
      "-0.30220603942871094\n",
      "-0.18258601427078247\n",
      "-0.7333046793937683\n",
      "0.060207635164260864\n",
      "-1.9463856220245361\n",
      "-0.08323836326599121\n",
      "-0.4789586663246155\n",
      "0.226782888174057\n",
      "-0.1313982456922531\n",
      "-1.184600591659546\n",
      "0.5962585210800171\n",
      "-0.915986955165863\n",
      "0.5802477598190308\n",
      "-0.3475506901741028\n",
      "-1.4434077739715576\n",
      "-1.4340472221374512\n",
      "-0.8789086937904358\n",
      "-1.4306843280792236\n",
      "0.3750802278518677\n",
      "-0.6668277978897095\n",
      "-1.1915581226348877\n",
      "-0.2097284197807312\n",
      "-1.3489634990692139\n",
      "-0.19207853078842163\n",
      "0.9151989817619324\n",
      "0.01597316563129425\n",
      "-1.3078348636627197\n",
      "-0.17467863857746124\n",
      "-1.3467063903808594\n",
      "0.13392138481140137\n",
      "-1.0306637287139893\n",
      "-0.7853797674179077\n",
      "-0.2723104655742645\n",
      "-1.2092812061309814\n",
      "0.2314237356185913\n",
      "-0.5079944133758545\n",
      "0.309506893157959\n",
      "0.19039997458457947\n",
      "0.18810096383094788\n",
      "0.20682498812675476\n",
      "0.08629223704338074\n",
      "-0.46258577704429626\n",
      "-1.5967390537261963\n",
      "-1.6916859149932861\n",
      "-0.5291053056716919\n",
      "-1.4125611782073975\n",
      "0.4778289198875427\n",
      "0.05977639555931091\n",
      "-0.0781719982624054\n",
      "0.06702768802642822\n",
      "-0.8931838870048523\n",
      "-0.5363810062408447\n",
      "-0.41039609909057617\n",
      "0.7350262999534607\n",
      "-0.44384557008743286\n",
      "-0.0031420141458511353\n",
      "-0.34273040294647217\n",
      "-0.45960885286331177\n",
      "-0.9563617706298828\n",
      "-0.8326727747917175\n",
      "0.004823312163352966\n",
      "0.44042015075683594\n",
      "-1.9909110069274902\n",
      "0.033349066972732544\n",
      "-0.667502224445343\n",
      "-1.041213035583496\n",
      "-1.0236220359802246\n",
      "0.038940295577049255\n",
      "-0.3880654573440552\n",
      "0.4819874167442322\n",
      "-1.1088943481445312\n",
      "-0.44819194078445435\n",
      "-0.12749934196472168\n",
      "0.33301103115081787\n",
      "0.2605813145637512\n",
      "0.2527254521846771\n",
      "-0.05145937204360962\n",
      "-0.35178670287132263\n",
      "-0.9577754139900208\n",
      "-0.1739148497581482\n",
      "-0.03708311915397644\n",
      "-0.01717934012413025\n",
      "-0.920555830001831\n",
      "-0.7002373933792114\n",
      "-1.0269951820373535\n",
      "0.2546702027320862\n",
      "-0.27660197019577026\n",
      "-0.6919180154800415\n",
      "-0.4349418878555298\n",
      "-0.9368758201599121\n",
      "-0.6745684146881104\n",
      "-1.3292028903961182\n",
      "-0.6667369604110718\n",
      "-1.1155129671096802\n",
      "-0.01987379789352417\n",
      "-0.3969789147377014\n",
      "-0.20561803877353668\n",
      "0.017743483185768127\n",
      "-0.43186280131340027\n",
      "0.06291535496711731\n",
      "0.08651244640350342\n",
      "-0.22541260719299316\n",
      "-0.4662436842918396\n",
      "0.19466853141784668\n",
      "-0.522285521030426\n",
      "-0.29244542121887207\n",
      "-1.2030069828033447\n",
      "0.5946627855300903\n",
      "-0.03560344874858856\n",
      "-0.19989046454429626\n",
      "0.1267338991165161\n",
      "-1.856522560119629\n",
      "-1.7845969200134277\n",
      "-0.09571023285388947\n",
      "-1.6153943538665771\n",
      "-0.5741556882858276\n",
      "-0.8743614554405212\n",
      "-0.19245320558547974\n",
      "0.4450295567512512\n",
      "0.23165911436080933\n",
      "-0.8048195242881775\n",
      "-0.23694288730621338\n",
      "0.5922684073448181\n",
      "0.6162574887275696\n",
      "0.004766196012496948\n",
      "-1.2906436920166016\n",
      "1.0006294250488281\n",
      "-0.631890594959259\n",
      "0.5045477151870728\n",
      "-1.4559307098388672\n",
      "-0.7086053490638733\n",
      "0.09347274899482727\n",
      "-0.3697828948497772\n",
      "0.0600353479385376\n",
      "0.9560863375663757\n",
      "-0.9825810790061951\n",
      "-0.0829317644238472\n",
      "0.5688055157661438\n",
      "0.044716134667396545\n",
      "-0.09138940274715424\n",
      "-0.10637187957763672\n",
      "-0.6860134601593018\n",
      "-0.5879234671592712\n",
      "0.019374653697013855\n",
      "-0.21031375229358673\n",
      "0.6977789402008057\n",
      "0.565137505531311\n",
      "-0.9105696082115173\n",
      "-1.556816577911377\n",
      "0.5991635322570801\n",
      "-0.05431436002254486\n",
      "-1.0095627307891846\n",
      "-0.5417633652687073\n",
      "0.18413683772087097\n",
      "0.21143686771392822\n",
      "0.200626939535141\n",
      "-1.4863684177398682\n",
      "-1.1879936456680298\n",
      "-1.0124671459197998\n",
      "-0.6118572950363159\n",
      "-0.2102786898612976\n",
      "-2.1179049015045166\n",
      "-0.8586665987968445\n",
      "0.6131089925765991\n",
      "-0.9249747395515442\n",
      "0.19401586055755615\n",
      "-0.11540767550468445\n",
      "-0.21104998886585236\n",
      "-1.0667791366577148\n",
      "-0.48778602480888367\n",
      "-0.5706027746200562\n",
      "0.08964532613754272\n",
      "0.46949321031570435\n",
      "-0.3622588515281677\n",
      "-0.904213547706604\n",
      "-0.6309431791305542\n",
      "-1.8086578845977783\n",
      "-0.3599602282047272\n",
      "0.024263158440589905\n",
      "-0.861379086971283\n",
      "0.41144371032714844\n",
      "-0.6377909779548645\n",
      "0.34899401664733887\n",
      "-1.4215800762176514\n",
      "0.1835854947566986\n",
      "0.23246091604232788\n",
      "-0.9247914552688599\n",
      "-0.23453748226165771\n",
      "0.8603343367576599\n",
      "-1.2619657516479492\n",
      "0.5090974569320679\n",
      "0.33047759532928467\n",
      "-0.6790211796760559\n",
      "-0.9897640943527222\n",
      "0.07311353087425232\n",
      "-2.1418590545654297\n",
      "-1.7985906600952148\n",
      "-1.1866624355316162\n",
      "0.11451160907745361\n",
      "-0.36889326572418213\n",
      "0.3370823860168457\n",
      "-1.320742130279541\n",
      "-1.2449917793273926\n",
      "0.03985220193862915\n",
      "0.6588318943977356\n",
      "0.2250032126903534\n",
      "-0.3944457769393921\n",
      "-1.3274028301239014\n",
      "-0.9687525033950806\n",
      "-0.6346777677536011\n",
      "-0.1850755512714386\n",
      "-1.1284273862838745\n",
      "-1.5592315196990967\n",
      "-0.9812282919883728\n",
      "-0.7942288517951965\n",
      "-0.6631650328636169\n",
      "-2.0426371097564697\n",
      "0.5940723419189453\n",
      "-0.2819821536540985\n",
      "0.03800654411315918\n",
      "0.5512467622756958\n",
      "-1.818915605545044\n",
      "-0.5667005777359009\n",
      "-1.276183843612671\n",
      "-0.1702965795993805\n",
      "0.366598904132843\n",
      "-0.9361492395401001\n",
      "-0.23705482482910156\n",
      "-1.425565242767334\n",
      "-0.6174752712249756\n",
      "-1.8856537342071533\n",
      "0.06303107738494873\n",
      "0.18901535868644714\n",
      "0.3803732991218567\n",
      "0.5892015695571899\n",
      "-1.3099703788757324\n",
      "0.12297284603118896\n",
      "0.027510762214660645\n",
      "-0.27260640263557434\n",
      "-0.44744592905044556\n",
      "0.04486425220966339\n",
      "0.04418310523033142\n",
      "-1.2616307735443115\n",
      "-0.5670292377471924\n",
      "0.02872280776500702\n",
      "0.12729871273040771\n",
      "-0.6977400183677673\n",
      "0.018522262573242188\n",
      "-0.8523067831993103\n",
      "0.6130054593086243\n",
      "-0.41391345858573914\n",
      "-1.8582801818847656\n",
      "-1.04915189743042\n",
      "-1.330913782119751\n",
      "-0.905680239200592\n",
      "-0.6763918995857239\n",
      "0.297177791595459\n",
      "-0.3835528492927551\n",
      "-1.187875509262085\n",
      "-0.7264212965965271\n",
      "-0.9445616602897644\n",
      "-0.1842065453529358\n",
      "-0.7683565616607666\n",
      "-0.120001882314682\n",
      "0.1411561369895935\n",
      "0.12424266338348389\n",
      "0.446186363697052\n",
      "-0.08646701276302338\n",
      "-0.751926600933075\n",
      "-1.0500500202178955\n",
      "0.5926223993301392\n",
      "-1.235006332397461\n",
      "0.4223586320877075\n",
      "-1.2629814147949219\n",
      "-0.3175157606601715\n",
      "-1.3664402961730957\n",
      "0.0761825442314148\n",
      "0.04550886154174805\n",
      "-0.6137081384658813\n",
      "0.5545156598091125\n",
      "-0.22940479218959808\n",
      "-0.7499906420707703\n",
      "0.595582127571106\n",
      "-1.6545393466949463\n",
      "-0.07203401625156403\n",
      "-2.0796432495117188\n",
      "-2.1291167736053467\n",
      "0.2957003712654114\n",
      "-0.18426358699798584\n",
      "-0.15597304701805115\n",
      "0.11795228719711304\n",
      "-1.4177861213684082\n",
      "-0.5383388996124268\n",
      "-1.5000085830688477\n",
      "-0.6101123690605164\n",
      "0.09216529130935669\n",
      "1.002889633178711\n",
      "-1.2955434322357178\n",
      "-0.2998480200767517\n",
      "-1.3444230556488037\n",
      "-1.7415027618408203\n",
      "0.5959296226501465\n",
      "-1.7090153694152832\n",
      "-1.7769715785980225\n",
      "0.07685431838035583\n",
      "-0.9328157305717468\n",
      "0.17144113779067993\n",
      "-2.1560218334198\n",
      "-1.8965184688568115\n",
      "-0.18759533762931824\n",
      "0.7752141356468201\n",
      "-0.03146323561668396\n",
      "-0.012048736214637756\n",
      "0.3525494933128357\n",
      "-0.6301616430282593\n",
      "-0.06777003407478333\n",
      "0.523880660533905\n",
      "0.8912453055381775\n",
      "0.3707745671272278\n",
      "0.6972557306289673\n",
      "-0.7963809967041016\n",
      "-1.2470169067382812\n",
      "0.8863887190818787\n",
      "0.24006980657577515\n",
      "-1.3423914909362793\n",
      "0.14867252111434937\n",
      "-1.0118368864059448\n",
      "-0.41421252489089966\n",
      "0.28831779956817627\n",
      "-0.5526489615440369\n",
      "-1.4778392314910889\n",
      "-0.44419533014297485\n",
      "-0.9169697165489197\n",
      "-0.55362868309021\n",
      "-0.2362672984600067\n",
      "-0.8698102235794067\n",
      "0.5369691848754883\n",
      "-0.4944869577884674\n",
      "0.2628195285797119\n",
      "-0.2104514241218567\n",
      "0.6597340106964111\n",
      "-0.4023100733757019\n",
      "-0.4439134895801544\n",
      "-0.3220982849597931\n",
      "0.1944880485534668\n",
      "-0.7131367921829224\n",
      "-1.2672686576843262\n",
      "-0.03681521117687225\n",
      "-0.1396786868572235\n",
      "-0.02572976052761078\n",
      "-1.3406391143798828\n",
      "0.08506950736045837\n",
      "-0.529420018196106\n",
      "0.34185099601745605\n",
      "-0.45309507846832275\n",
      "0.31838929653167725\n",
      "-1.0025367736816406\n",
      "-0.2627688944339752\n",
      "-0.740893542766571\n",
      "0.3359653353691101\n",
      "0.3092613220214844\n",
      "-0.6348706483840942\n",
      "-0.3195089101791382\n",
      "-1.0651063919067383\n",
      "-0.42186084389686584\n",
      "0.5046178102493286\n",
      "-0.353456974029541\n",
      "0.20757904648780823\n",
      "-0.8467696309089661\n",
      "-0.9265801906585693\n",
      "-0.051311343908309937\n",
      "-0.25204896926879883\n",
      "-0.18124012649059296\n",
      "0.5628965497016907\n",
      "-0.672451376914978\n",
      "-2.4573493003845215\n",
      "-0.975261390209198\n",
      "-0.48415446281433105\n",
      "-0.027942240238189697\n",
      "-0.5474210977554321\n",
      "-1.3574888706207275\n",
      "-0.28723764419555664\n",
      "-0.14388315379619598\n",
      "-0.5003250241279602\n",
      "0.3831961750984192\n",
      "0.3092215061187744\n",
      "0.1681501269340515\n",
      "-0.9042207598686218\n",
      "-1.5842921733856201\n",
      "0.5394875407218933\n",
      "-0.8349180817604065\n",
      "0.5882588028907776\n",
      "-0.12814123928546906\n",
      "-0.043965891003608704\n",
      "-0.8318197131156921\n",
      "-0.16014140844345093\n",
      "-1.207610845565796\n",
      "0.30822545289993286\n",
      "-0.6349195241928101\n",
      "-0.4162997603416443\n",
      "-0.6992977261543274\n",
      "0.1632586121559143\n",
      "-0.6291416883468628\n",
      "-0.183055579662323\n",
      "0.3485563397407532\n",
      "0.18720373511314392\n",
      "-2.3185575008392334\n",
      "-0.22690165042877197\n",
      "0.9822567105293274\n",
      "1.012230396270752\n",
      "-1.7766048908233643\n",
      "-0.5376151204109192\n",
      "-0.44315123558044434\n",
      "-0.9516137838363647\n",
      "-0.3828735947608948\n",
      "-0.46191611886024475\n",
      "-0.44773536920547485\n",
      "-0.35894572734832764\n",
      "-0.3515608310699463\n",
      "-0.3355576694011688\n",
      "-1.2927937507629395\n",
      "-0.350228488445282\n",
      "-1.0191233158111572\n",
      "0.595842182636261\n",
      "0.5948923826217651\n",
      "-0.6669332981109619\n",
      "-0.15620513260364532\n",
      "-0.7125852704048157\n",
      "0.3804408311843872\n",
      "-0.4103054106235504\n",
      "-0.16805405914783478\n",
      "-0.8733296990394592\n",
      "-1.0255546569824219\n",
      "-0.4393610954284668\n",
      "-0.004787266254425049\n",
      "0.6287794709205627\n",
      "-1.0675337314605713\n",
      "-0.45715320110321045\n",
      "-0.5535375475883484\n",
      "-0.0024829059839248657\n",
      "0.29557162523269653\n",
      "0.19806325435638428\n",
      "0.1374083161354065\n",
      "0.007580384612083435\n",
      "0.9989832043647766\n",
      "-0.753875732421875\n",
      "-0.5881476998329163\n",
      "-1.1379423141479492\n",
      "-0.2835273742675781\n",
      "-0.28481876850128174\n",
      "-0.6319460868835449\n",
      "0.017758995294570923\n",
      "-0.44463789463043213\n",
      "-0.9209179878234863\n",
      "0.5898056030273438\n",
      "-0.47114843130111694\n",
      "0.24823641777038574\n",
      "-0.2106296569108963\n",
      "0.5862195491790771\n",
      "0.4063261151313782\n",
      "-0.6092606782913208\n",
      "-0.11976797133684158\n",
      "-0.4643181264400482\n",
      "0.6387583017349243\n",
      "-0.5146178603172302\n",
      "-0.8827802538871765\n",
      "-0.13146941363811493\n",
      "0.09823435544967651\n",
      "-0.9069444537162781\n",
      "-2.6458427906036377\n",
      "-1.5908091068267822\n",
      "-0.6316606402397156\n",
      "-0.5839774012565613\n",
      "-0.358999639749527\n",
      "-0.21644560992717743\n",
      "-0.014988183975219727\n",
      "-0.41051650047302246\n",
      "-0.16101177036762238\n",
      "-0.15352272987365723\n",
      "-2.6683664321899414\n",
      "-1.225832462310791\n",
      "-0.34144219756126404\n",
      "0.18181845545768738\n",
      "-0.728064239025116\n",
      "-0.21203702688217163\n",
      "-0.2598511576652527\n",
      "-0.378051221370697\n",
      "-0.5091444253921509\n",
      "-1.1910889148712158\n",
      "-0.7430130839347839\n",
      "0.23925060033798218\n",
      "0.5919803977012634\n",
      "-1.2832844257354736\n",
      "0.08987975120544434\n",
      "-0.482263445854187\n",
      "-0.08881337940692902\n",
      "0.20292499661445618\n",
      "-1.575751781463623\n",
      "-0.45589035749435425\n",
      "-0.033345162868499756\n",
      "-0.8230150938034058\n",
      "0.592365562915802\n",
      "0.6158894300460815\n",
      "-0.9218661785125732\n",
      "-0.8601114153862\n",
      "-1.1323896646499634\n",
      "-0.5827884078025818\n",
      "0.16858044266700745\n",
      "-1.5055358409881592\n",
      "-0.6149872541427612\n",
      "0.3925101161003113\n",
      "0.1373647153377533\n",
      "0.5923241376876831\n",
      "-0.6490216255187988\n",
      "-0.5843054056167603\n",
      "-1.4007501602172852\n",
      "-0.002050042152404785\n",
      "0.35656899213790894\n",
      "-1.1169486045837402\n",
      "0.13172155618667603\n",
      "0.4065394997596741\n",
      "-1.3242676258087158\n",
      "-0.9419769644737244\n",
      "-1.8355541229248047\n",
      "0.8088588118553162\n",
      "0.3628968596458435\n",
      "0.23046651482582092\n",
      "-1.704164981842041\n",
      "-0.09357836097478867\n",
      "-1.5148744583129883\n",
      "0.4852457642555237\n",
      "0.04918712377548218\n",
      "-0.29206252098083496\n",
      "0.5948376655578613\n",
      "0.3507700562477112\n",
      "0.0030755847692489624\n",
      "-0.5406036972999573\n",
      "-0.11512870341539383\n",
      "-1.206855297088623\n",
      "-0.5431164503097534\n",
      "-1.2918272018432617\n",
      "-1.0556399822235107\n",
      "0.3450181484222412\n",
      "0.24142557382583618\n",
      "-0.8048624992370605\n",
      "0.7015201449394226\n",
      "-0.7565335631370544\n",
      "-0.4536837637424469\n",
      "0.6554998755455017\n",
      "-1.2655117511749268\n",
      "-0.8835436701774597\n",
      "0.2791973352432251\n",
      "-1.2798573970794678\n",
      "0.5957954525947571\n",
      "-0.4849834740161896\n",
      "-0.6297575235366821\n",
      "-0.5858009457588196\n",
      "-1.4100944995880127\n",
      "-1.347064733505249\n",
      "-1.1040070056915283\n",
      "-1.4667296409606934\n",
      "-1.1534267663955688\n",
      "-1.0202763080596924\n",
      "0.2899360954761505\n",
      "-1.1295595169067383\n",
      "0.24453285336494446\n",
      "-0.3789641857147217\n",
      "0.27918440103530884\n",
      "-0.7543770670890808\n",
      "-1.2766447067260742\n",
      "-0.5221771597862244\n",
      "-1.6058273315429688\n",
      "0.4941602349281311\n",
      "0.3733419179916382\n",
      "0.7636963129043579\n",
      "-1.4387261867523193\n",
      "-1.2112562656402588\n",
      "-0.3265296220779419\n",
      "-0.7206512093544006\n",
      "-0.3143216371536255\n",
      "-0.7808569669723511\n",
      "0.4580979347229004\n",
      "-0.10149398446083069\n",
      "0.3556836247444153\n",
      "0.9372648596763611\n",
      "0.9413537383079529\n",
      "0.1703457534313202\n",
      "0.5940208435058594\n",
      "-0.6642632484436035\n",
      "-1.0937840938568115\n",
      "-0.6056101322174072\n",
      "-1.2076075077056885\n",
      "-0.7451745271682739\n",
      "-0.5819774866104126\n",
      "-0.5847755670547485\n",
      "-0.5882746577262878\n",
      "-0.6249410510063171\n",
      "-0.6859053373336792\n",
      "-0.47133833169937134\n",
      "-1.016380786895752\n",
      "0.05807662010192871\n",
      "-0.15191495418548584\n",
      "-0.07520502805709839\n",
      "-0.10365188121795654\n",
      "0.09866398572921753\n",
      "-0.3803499937057495\n",
      "-0.2243441641330719\n",
      "-0.7902999520301819\n",
      "-0.33765095472335815\n",
      "-0.5017549395561218\n",
      "-0.6261944770812988\n",
      "-0.5000671148300171\n",
      "0.06178826093673706\n",
      "-1.2055349349975586\n",
      "0.1500188112258911\n",
      "-0.008113443851470947\n",
      "0.0657007098197937\n",
      "-1.0626189708709717\n",
      "-0.3257581889629364\n",
      "-0.012500062584877014\n",
      "-1.127323031425476\n",
      "-0.049046456813812256\n",
      "-0.017601072788238525\n",
      "-0.10230352729558945\n",
      "1.173598051071167\n",
      "-0.20885401964187622\n",
      "0.17647501826286316\n",
      "-0.8035820722579956\n",
      "0.5938394069671631\n",
      "-1.878462553024292\n",
      "-0.4472898244857788\n",
      "0.017772480845451355\n",
      "0.3432523012161255\n",
      "-0.3519490361213684\n",
      "-0.2128761112689972\n",
      "0.020230039954185486\n",
      "0.33125054836273193\n",
      "-0.4485744833946228\n",
      "-0.40779393911361694\n",
      "-1.6677565574645996\n",
      "0.3187010884284973\n",
      "-0.6472722291946411\n",
      "-0.8554713726043701\n",
      "-0.09184518456459045\n",
      "-0.5806512236595154\n",
      "0.1781277060508728\n",
      "0.36872684955596924\n",
      "-1.1053305864334106\n",
      "0.25659435987472534\n",
      "-0.2654186189174652\n",
      "0.5900298953056335\n",
      "0.01405283808708191\n",
      "-0.5531008243560791\n",
      "-0.5154342651367188\n",
      "-1.3062548637390137\n",
      "-0.3589308261871338\n",
      "-1.5809919834136963\n",
      "-0.5794769525527954\n",
      "0.9108139872550964\n",
      "-1.272376298904419\n",
      "0.5177125334739685\n",
      "0.01799309253692627\n",
      "-0.39229366183280945\n",
      "-0.9169365763664246\n",
      "-0.289757639169693\n",
      "-0.7777619957923889\n",
      "-0.5007977485656738\n",
      "0.02569018304347992\n",
      "0.719170331954956\n",
      "-0.7701051831245422\n",
      "-1.391937255859375\n",
      "-0.4166540503501892\n",
      "-2.113588571548462\n",
      "0.3030768632888794\n",
      "0.949525773525238\n",
      "0.03454931080341339\n",
      "0.1299128234386444\n",
      "-0.20723938941955566\n",
      "-0.35096001625061035\n",
      "-1.1614956855773926\n",
      "0.4522166848182678\n",
      "-0.7971664071083069\n",
      "-0.5772868394851685\n",
      "-0.6071131229400635\n",
      "-0.7104548215866089\n",
      "-0.30645084381103516\n",
      "-0.3592212200164795\n",
      "-1.9818267822265625\n",
      "-1.013282299041748\n",
      "-1.2693977355957031\n",
      "-1.042417287826538\n",
      "0.1076180636882782\n",
      "0.34079819917678833\n",
      "0.4500994086265564\n",
      "-1.2456209659576416\n",
      "-0.0025752484798431396\n",
      "-0.6704840064048767\n",
      "-0.009887129068374634\n",
      "0.07071107625961304\n",
      "0.21678036451339722\n",
      "-1.2007248401641846\n",
      "-0.7843290567398071\n",
      "-0.9101743698120117\n",
      "-1.6626360416412354\n",
      "0.3687742352485657\n",
      "-0.2696307599544525\n",
      "0.5256460905075073\n",
      "-1.1547982692718506\n",
      "-2.005911111831665\n",
      "-0.3397839069366455\n",
      "-0.2877826690673828\n",
      "0.19069987535476685\n",
      "-0.7219153642654419\n",
      "-0.7861624956130981\n",
      "-1.2676610946655273\n",
      "-0.7943191528320312\n",
      "-0.05957125127315521\n",
      "-0.3054973781108856\n",
      "-1.6491672992706299\n",
      "-0.08576146513223648\n",
      "1.0563571453094482\n",
      "0.14436325430870056\n",
      "-0.21171052753925323\n",
      "-2.181820869445801\n",
      "0.1378018856048584\n",
      "-1.3709321022033691\n",
      "-0.6387456655502319\n",
      "0.7262648940086365\n",
      "-1.8467214107513428\n",
      "-0.206254780292511\n",
      "-0.7358062863349915\n",
      "0.1433846354484558\n",
      "1.017320156097412\n",
      "-0.1089746505022049\n",
      "-0.6477314233779907\n",
      "-0.5100284814834595\n",
      "-2.1188831329345703\n",
      "-0.7856473326683044\n",
      "-0.645858108997345\n",
      "-0.6516611576080322\n",
      "0.7958381772041321\n",
      "-0.9407685399055481\n",
      "-1.4165716171264648\n",
      "-0.8850322365760803\n",
      "0.8786500096321106\n",
      "-0.6402472257614136\n",
      "-0.37000739574432373\n",
      "-1.3497672080993652\n",
      "-0.5642956495285034\n",
      "0.10299420356750488\n",
      "0.2651488184928894\n",
      "-0.563640832901001\n",
      "-1.083967924118042\n",
      "0.35618478059768677\n",
      "-0.8546878695487976\n",
      "-1.8388268947601318\n",
      "0.33694297075271606\n",
      "-1.1665608882904053\n",
      "0.28881821036338806\n",
      "-0.44593334197998047\n",
      "-0.3100581169128418\n",
      "-1.6392412185668945\n",
      "0.5944904088973999\n",
      "-0.34500062465667725\n",
      "-0.7068878412246704\n",
      "-0.8361508846282959\n",
      "-0.40174055099487305\n",
      "0.5934815406799316\n",
      "-1.5300624370574951\n",
      "-1.320732831954956\n",
      "-1.086503028869629\n",
      "-1.34855055809021\n",
      "-1.342360258102417\n",
      "-0.04771997034549713\n",
      "-0.04939830303192139\n",
      "-0.5597891807556152\n",
      "-1.2230205535888672\n",
      "0.5925775170326233\n",
      "-0.3567735552787781\n",
      "0.38761401176452637\n",
      "0.21904700994491577\n",
      "-1.3481252193450928\n",
      "0.29166340827941895\n",
      "-1.0536656379699707\n",
      "1.044773817062378\n",
      "0.7234432101249695\n",
      "-0.008000016212463379\n",
      "-0.2575405240058899\n",
      "-0.4778871536254883\n",
      "-0.8901642560958862\n",
      "-0.7351071834564209\n",
      "0.060805946588516235\n",
      "-1.705446481704712\n",
      "-0.5519585609436035\n",
      "-1.775710105895996\n",
      "-1.2630558013916016\n",
      "-0.6119801998138428\n",
      "0.09202170372009277\n",
      "-1.1901161670684814\n",
      "-0.36403611302375793\n",
      "-2.24930739402771\n",
      "-0.027636051177978516\n",
      "-0.9751735925674438\n",
      "-0.21739622950553894\n",
      "0.6915569305419922\n",
      "-1.275526523590088\n",
      "0.42919111251831055\n",
      "-2.4865314960479736\n",
      "1.1361260414123535\n",
      "-0.07816214859485626\n",
      "-0.7274181842803955\n",
      "-0.7698730826377869\n",
      "-1.2976725101470947\n",
      "-2.205049753189087\n",
      "0.22033315896987915\n",
      "-1.5812556743621826\n",
      "0.3152960538864136\n",
      "-1.0802717208862305\n",
      "0.26408836245536804\n",
      "-2.032470941543579\n",
      "-0.6628410816192627\n",
      "-0.8483602404594421\n",
      "0.10964366793632507\n",
      "-1.1901695728302002\n",
      "0.4571104645729065\n",
      "0.5900141000747681\n",
      "1.2748308181762695\n",
      "-2.0044116973876953\n",
      "-1.1773834228515625\n",
      "-1.0371860265731812\n",
      "0.6752157807350159\n",
      "0.34744274616241455\n",
      "-0.34288451075553894\n",
      "0.03224430978298187\n",
      "-1.2267322540283203\n",
      "-0.5573186278343201\n",
      "-0.5485772490501404\n",
      "-0.1311473250389099\n",
      "-1.3303167819976807\n",
      "-0.43584614992141724\n",
      "-1.2343037128448486\n",
      "0.8913772702217102\n",
      "-0.8127052187919617\n",
      "-0.7768095135688782\n",
      "-0.43363896012306213\n",
      "-2.7796308994293213\n",
      "0.7155418992042542\n",
      "-0.8822503685951233\n",
      "-0.6439095735549927\n",
      "0.26609712839126587\n",
      "-0.6923292875289917\n",
      "0.33855342864990234\n",
      "0.4535835385322571\n",
      "1.2969951629638672\n",
      "0.10772150754928589\n",
      "-1.7441043853759766\n",
      "-0.6190842390060425\n",
      "-1.0108028650283813\n",
      "-0.7985749840736389\n",
      "-0.3463468551635742\n",
      "-2.03609037399292\n",
      "0.8183500170707703\n",
      "0.9049050211906433\n",
      "0.115546315908432\n",
      "0.8916998505592346\n",
      "1.0434200763702393\n",
      "-0.7568370699882507\n",
      "-1.0916849374771118\n",
      "-1.2355906963348389\n",
      "-2.0510876178741455\n",
      "0.11213558912277222\n",
      "-0.61443692445755\n",
      "-0.2655082046985626\n",
      "-1.5347108840942383\n",
      "-0.531376838684082\n",
      "0.7135071754455566\n",
      "0.5167692303657532\n",
      "-1.4202213287353516\n",
      "-1.1177911758422852\n",
      "-0.8755541443824768\n",
      "-1.168209433555603\n",
      "0.6742874383926392\n",
      "-1.7832043170928955\n",
      "-0.344938725233078\n",
      "0.04551440477371216\n",
      "-0.14524030685424805\n",
      "-0.21103216707706451\n",
      "-1.2259924411773682\n",
      "0.5934982895851135\n",
      "-0.09280999004840851\n",
      "-0.17023062705993652\n",
      "-2.3535678386688232\n",
      "0.8201172947883606\n",
      "-0.04813803732395172\n",
      "0.16554158926010132\n",
      "-0.14681249856948853\n",
      "-1.9323949813842773\n",
      "-0.20994295179843903\n",
      "-1.1836506128311157\n",
      "-0.43334099650382996\n",
      "0.29772526025772095\n",
      "0.5429498553276062\n",
      "0.4376150369644165\n",
      "0.08643198013305664\n",
      "-1.6260604858398438\n",
      "-1.3433327674865723\n",
      "0.02503807842731476\n",
      "-0.0816764160990715\n",
      "0.30019664764404297\n",
      "-1.1958577632904053\n",
      "-1.2241458892822266\n",
      "-1.0568883419036865\n",
      "-2.4133644104003906\n",
      "-0.536124050617218\n",
      "-0.3868725895881653\n",
      "0.06229129433631897\n",
      "0.5951976776123047\n",
      "0.5973122119903564\n",
      "-0.67214435338974\n",
      "-0.6540882587432861\n",
      "-1.1085951328277588\n",
      "-1.3590519428253174\n",
      "0.373432457447052\n",
      "-0.8791771531105042\n",
      "-0.12190312147140503\n",
      "0.029180720448493958\n",
      "0.2680754065513611\n",
      "-1.3171379566192627\n",
      "-0.8388867378234863\n",
      "0.08431097865104675\n",
      "-0.015063926577568054\n",
      "-0.38796356320381165\n",
      "-0.4184696078300476\n",
      "-0.5840647220611572\n",
      "-0.26103636622428894\n",
      "-1.9061787128448486\n",
      "0.5379383563995361\n",
      "-0.061602383852005005\n",
      "0.37156856060028076\n",
      "0.5942143797874451\n",
      "-0.09048715233802795\n",
      "0.09054034948348999\n",
      "0.026689857244491577\n",
      "-1.9356935024261475\n",
      "-1.4057424068450928\n",
      "-1.3783907890319824\n",
      "0.1526537835597992\n",
      "-1.477154016494751\n",
      "-1.03377366065979\n",
      "-0.14825832843780518\n",
      "0.6102504730224609\n",
      "0.5788031220436096\n",
      "-1.0316165685653687\n",
      "-2.067560911178589\n",
      "-1.4739899635314941\n",
      "0.35597890615463257\n",
      "-0.8158674836158752\n",
      "-0.13158154487609863\n",
      "-0.13094547390937805\n",
      "-0.22376136481761932\n",
      "-0.1293909251689911\n",
      "0.498232364654541\n",
      "-0.6294665336608887\n",
      "-1.2629635334014893\n",
      "-1.273224115371704\n",
      "-0.8015380501747131\n",
      "-0.3273405432701111\n",
      "-2.150745153427124\n",
      "-0.20973284542560577\n",
      "0.4145081639289856\n",
      "-0.1995030790567398\n",
      "0.23873847723007202\n",
      "-0.21003079414367676\n",
      "-0.49183574318885803\n",
      "-2.3401715755462646\n",
      "-1.3634679317474365\n",
      "-0.48125940561294556\n",
      "-0.8352958559989929\n",
      "0.48324310779571533\n",
      "0.34404462575912476\n",
      "-0.13018617033958435\n",
      "0.560546338558197\n",
      "-0.22616681456565857\n",
      "-0.5848371982574463\n",
      "0.5537983179092407\n",
      "-0.3914182782173157\n",
      "-0.9467567801475525\n",
      "1.2980115413665771\n",
      "0.18429121375083923\n",
      "0.22540801763534546\n",
      "-0.4965130090713501\n",
      "1.146756887435913\n",
      "-0.8379137516021729\n",
      "-0.6061457395553589\n",
      "0.2349034547805786\n"
     ]
    }
   ],
   "source": [
    "for o in output:\n",
    "    print(o.item())\n"
   ]
  },
  {
   "cell_type": "code",
   "execution_count": 15,
   "metadata": {},
   "outputs": [
    {
     "data": {
      "text/plain": [
       "[<matplotlib.lines.Line2D at 0x1a1ce4e550>]"
      ]
     },
     "execution_count": 15,
     "metadata": {},
     "output_type": "execute_result"
    },
    {
     "data": {
      "image/png": "[encoded data removed]",
      "text/plain": [
       "<Figure size 432x288 with 1 Axes>"
      ]
     },
     "metadata": {},
     "output_type": "display_data"
    }
   ],
   "source": [
    "from scipy import stats                                                         \n",
    "\n",
    "ax = sns.distplot(output[:,0].cpu().numpy().T, rug=True, hist=False)\n",
    "\n",
    "# calculate the pdf over a range of values\n",
    "xx = np.arange(-3, +3, 0.001)                                                   \n",
    "yy = stats.norm.pdf(xx)                                                         \n",
    "# and plot on the same axes that seaborn put the histogram\n",
    "ax.plot(xx, yy, 'r', lw=2)  "
   ]
  },
  {
   "cell_type": "code",
   "execution_count": null,
   "metadata": {},
   "outputs": [],
   "source": []
  }
 ],
 "metadata": {
  "kernelspec": {
   "display_name": "GAN_PoC",
   "language": "python",
   "name": "gan_poc"
  },
  "language_info": {
   "codemirror_mode": {
    "name": "ipython",
    "version": 3
   },
   "file_extension": ".py",
   "mimetype": "text/x-python",
   "name": "python",
   "nbconvert_exporter": "python",
   "pygments_lexer": "ipython3",
   "version": "3.6.5"
  }
 },
 "nbformat": 4,
 "nbformat_minor": 2
}
